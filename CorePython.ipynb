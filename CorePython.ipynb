{
 "cells": [
  {
   "cell_type": "code",
   "execution_count": 59,
   "metadata": {},
   "outputs": [],
   "source": [
    "class ShippingContainer:\n",
    "    \n",
    "    my_class_attribute = 'This is a class'\n",
    "    next_serial = 10\n",
    "    \n",
    "    @classmethod\n",
    "    def create_empty(cls,owner,**kwargs):\n",
    "        return cls(owner,content=[],**kwargs)\n",
    "    \n",
    "    @classmethod\n",
    "    def create_with_items(cls,owner,items,**kwargs):\n",
    "        return cls(owner,content=list(items),**kwargs)\n",
    "    \n",
    "    @classmethod\n",
    "    def _generate_serial(cls):\n",
    "        result = cls.next_serial\n",
    "        cls.next_serial += 1\n",
    "        return result\n",
    "    \n",
    "    def __init__(self,owner,content):\n",
    "        self.owner = owner\n",
    "        self.content = content\n",
    "        self.serial = ShippingContainer._generate_serial()\n",
    "                                        "
   ]
  },
  {
   "cell_type": "code",
   "execution_count": 50,
   "metadata": {},
   "outputs": [],
   "source": [
    "s = ShippingContainer(\"AA\",[\"meetup\"])"
   ]
  },
  {
   "cell_type": "code",
   "execution_count": 51,
   "metadata": {},
   "outputs": [],
   "source": [
    "#LEGB Scopes - Local, Enclosing, Global, Built-In, class is not an enclosing scope, class does not introduce new scope"
   ]
  },
  {
   "cell_type": "code",
   "execution_count": 52,
   "metadata": {},
   "outputs": [
    {
     "data": {
      "text/plain": [
       "10"
      ]
     },
     "execution_count": 52,
     "metadata": {},
     "output_type": "execute_result"
    }
   ],
   "source": [
    "s.serial\n"
   ]
  },
  {
   "cell_type": "code",
   "execution_count": 53,
   "metadata": {},
   "outputs": [],
   "source": [
    "s1 = ShippingContainer(\"AS\",[\"meetup2\"])"
   ]
  },
  {
   "cell_type": "code",
   "execution_count": 54,
   "metadata": {},
   "outputs": [
    {
     "data": {
      "text/plain": [
       "11"
      ]
     },
     "execution_count": 54,
     "metadata": {},
     "output_type": "execute_result"
    }
   ],
   "source": [
    "s1.serial"
   ]
  },
  {
   "cell_type": "code",
   "execution_count": 45,
   "metadata": {},
   "outputs": [
    {
     "data": {
      "text/plain": [
       "12"
      ]
     },
     "execution_count": 45,
     "metadata": {},
     "output_type": "execute_result"
    }
   ],
   "source": [
    "ShippingContainer.next_serial        "
   ]
  },
  {
   "cell_type": "code",
   "execution_count": 108,
   "metadata": {},
   "outputs": [],
   "source": [
    "class RefrigeratedShippingContainer(ShippingContainer):\n",
    "    MAX_CELSIUS = 4.0\n",
    "    \n",
    "    def __init__(self,owner,content,*,celsius,**kwargs):\n",
    "        super().__init__(owner,content,**kwargs)\n",
    "        self.celsius = celsius\n",
    "    \n",
    "    @property\n",
    "    def celsius(self):\n",
    "        return self._celsius\n",
    "    @celsius.setter\n",
    "    def celsius(self,value):\n",
    "        if value > RefrigeratedShippingContainer.MAX_CELSIUS:\n",
    "            raise ValueError(\"Temperature too hot\")\n",
    "        self._celsius = value\n",
    "    def __repr__(self):\n",
    "        return f'{self.owner},{self.content},{self.celsius}'\n",
    "    \n",
    "    "
   ]
  },
  {
   "cell_type": "code",
   "execution_count": 109,
   "metadata": {},
   "outputs": [],
   "source": [
    "r = RefrigeratedShippingContainer.create_with_items(\"ESC\", [\"onions\"],celsius=2)"
   ]
  },
  {
   "cell_type": "code",
   "execution_count": 110,
   "metadata": {},
   "outputs": [],
   "source": [
    "r.celsius=3"
   ]
  },
  {
   "cell_type": "code",
   "execution_count": 111,
   "metadata": {},
   "outputs": [
    {
     "data": {
      "text/plain": [
       "ESC,['onions'],3"
      ]
     },
     "execution_count": 111,
     "metadata": {},
     "output_type": "execute_result"
    }
   ],
   "source": [
    "r"
   ]
  },
  {
   "cell_type": "code",
   "execution_count": 1,
   "metadata": {},
   "outputs": [],
   "source": [
    "#Latitude and longitude class\n",
    "\n",
    "\n"
   ]
  },
  {
   "cell_type": "code",
   "execution_count": 53,
   "metadata": {},
   "outputs": [],
   "source": [
    "class Position:\n",
    "    def __init__(self,lat,long):\n",
    "        if lat < -90 or lat >90:\n",
    "            raise ValueError('Lat out of range')\n",
    "        self._lat = lat\n",
    "        \n",
    "        if long < -180 or lat > 180:\n",
    "            raise ValueError('Long out of range')\n",
    "            \n",
    "        self._long = long\n",
    "    \n",
    "    #@property is read only, for setter you need to decorate by @p.setter\n",
    "    @property\n",
    "    def lat(self):\n",
    "        return self._lat\n",
    "    \n",
    "    @property\n",
    "    def long(self):\n",
    "        return self._long\n",
    "\n",
    "\n",
    "    def __repr__(self):\n",
    "        return f'LAT{self.lat},LONG{self.long}'\n",
    "    \n",
    "    def __str__(self):\n",
    "        return (\n",
    "            f\"LATITUDE:{self.lat},\"\n",
    "            f\"LONGITUDE:{self.long}\"\n",
    "        )\n",
    "    \n",
    "    def __format__(self, format_spec):\n",
    "        cf = \"0.2f\"\n",
    "        \n",
    "        lat = format(abs(self.lat),cf)\n",
    "        long = format(abs(self.long),cf)\n",
    "        \n",
    "        return f'LAT{lat},LONG{long}'\n",
    "        \n",
    "        \n",
    "        \n",
    "        "
   ]
  },
  {
   "cell_type": "code",
   "execution_count": 47,
   "metadata": {},
   "outputs": [],
   "source": [
    "pos = Position(-80.2,100)"
   ]
  },
  {
   "cell_type": "code",
   "execution_count": 48,
   "metadata": {},
   "outputs": [
    {
     "name": "stdout",
     "output_type": "stream",
     "text": [
      "LATITUDE:-80.2,LONGITUDE:100\n"
     ]
    }
   ],
   "source": [
    "print(pos)"
   ]
  },
  {
   "cell_type": "code",
   "execution_count": 49,
   "metadata": {},
   "outputs": [
    {
     "data": {
      "text/plain": [
       "LAT-80.2,LONG100"
      ]
     },
     "execution_count": 49,
     "metadata": {},
     "output_type": "execute_result"
    }
   ],
   "source": [
    "pos"
   ]
  },
  {
   "cell_type": "code",
   "execution_count": 50,
   "metadata": {},
   "outputs": [
    {
     "data": {
      "text/plain": [
       "'LATITUDE:-80.2,LONGITUDE:100'"
      ]
     },
     "execution_count": 50,
     "metadata": {},
     "output_type": "execute_result"
    }
   ],
   "source": [
    "str(pos)"
   ]
  },
  {
   "cell_type": "code",
   "execution_count": 52,
   "metadata": {},
   "outputs": [
    {
     "data": {
      "text/plain": [
       "'LAT80.20,LONG100.00'"
      ]
     },
     "execution_count": 52,
     "metadata": {},
     "output_type": "execute_result"
    }
   ],
   "source": [
    "format(pos,\".5f\")"
   ]
  },
  {
   "cell_type": "code",
   "execution_count": 56,
   "metadata": {},
   "outputs": [],
   "source": [
    "a,b,c = \".5f\".partition('.')\n",
    "x = \".5f\".split(\".\")"
   ]
  },
  {
   "cell_type": "code",
   "execution_count": 57,
   "metadata": {},
   "outputs": [
    {
     "data": {
      "text/plain": [
       "('', '.', '5f')"
      ]
     },
     "execution_count": 57,
     "metadata": {},
     "output_type": "execute_result"
    }
   ],
   "source": [
    "a,b,c"
   ]
  },
  {
   "cell_type": "code",
   "execution_count": 58,
   "metadata": {},
   "outputs": [
    {
     "data": {
      "text/plain": [
       "['', '5f']"
      ]
     },
     "execution_count": 58,
     "metadata": {},
     "output_type": "execute_result"
    }
   ],
   "source": [
    "x"
   ]
  },
  {
   "cell_type": "code",
   "execution_count": 59,
   "metadata": {},
   "outputs": [
    {
     "data": {
      "text/plain": [
       "('5f', '', '')"
      ]
     },
     "execution_count": 59,
     "metadata": {},
     "output_type": "execute_result"
    }
   ],
   "source": [
    "\"5f\".partition(\".\")"
   ]
  },
  {
   "cell_type": "code",
   "execution_count": null,
   "metadata": {},
   "outputs": [],
   "source": []
  }
 ],
 "metadata": {
  "kernelspec": {
   "display_name": "Python 3",
   "language": "python",
   "name": "python3"
  },
  "language_info": {
   "codemirror_mode": {
    "name": "ipython",
    "version": 3
   },
   "file_extension": ".py",
   "mimetype": "text/x-python",
   "name": "python",
   "nbconvert_exporter": "python",
   "pygments_lexer": "ipython3",
   "version": "3.8.2"
  }
 },
 "nbformat": 4,
 "nbformat_minor": 4
}
