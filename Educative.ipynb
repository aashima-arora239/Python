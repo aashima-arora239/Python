{
 "cells": [
  {
   "cell_type": "markdown",
   "metadata": {},
   "source": [
    "<h1>Educative"
   ]
  },
  {
   "cell_type": "code",
   "execution_count": 3,
   "metadata": {},
   "outputs": [],
   "source": [
    "def remove_even(list):\n",
    "    return [x for x in list if x % 2 != 0]\n"
   ]
  },
  {
   "cell_type": "code",
   "execution_count": 20,
   "metadata": {},
   "outputs": [],
   "source": [
    "def merge_lists(lst1, lst2):\n",
    "    sorted_list=[]\n",
    "    i=0\n",
    "    j=0\n",
    "    length=min(len(lst1),len(lst2))\n",
    "    while i < length and j < length:\n",
    "        if lst1[i] < lst2[j]:\n",
    "            sorted_list.append(lst1[i])\n",
    "            i+=1\n",
    "        else:\n",
    "            sorted_list.append(lst2[j])\n",
    "            j+=1\n",
    "    sorted_list += lst1[i:]\n",
    "    sorted_list += lst2[j:]\n",
    "    return sorted_list\n"
   ]
  },
  {
   "cell_type": "code",
   "execution_count": 61,
   "metadata": {},
   "outputs": [],
   "source": [
    "#In place\n",
    "def merge_lists(lst1, lst2):\n",
    "    i=0\n",
    "    j=0\n",
    "    while i < len(lst1) and j < len(lst2):\n",
    "        if lst1[i] < lst2[j]:\n",
    "            i+=1\n",
    "        else:\n",
    "            lst1.insert(i,lst2[j])\n",
    "            i+=1\n",
    "            j+=1\n",
    "    lst1 += lst2[j:]\n",
    "    return lst1"
   ]
  },
  {
   "cell_type": "code",
   "execution_count": 62,
   "metadata": {},
   "outputs": [
    {
     "name": "stdout",
     "output_type": "stream",
     "text": [
      "[1, 2, 3, 3, 3, 3, 3, 4, 5, 6]\n"
     ]
    }
   ],
   "source": [
    "print(merge_lists([1,2,4],[3, 3, 3, 3, 3, 5, 6]))\n"
   ]
  },
  {
   "cell_type": "code",
   "execution_count": 63,
   "metadata": {},
   "outputs": [
    {
     "name": "stdout",
     "output_type": "stream",
     "text": [
      "4\n",
      "5\n",
      "6\n",
      "7\n",
      "[1, 2, 3, 3, 3, 3, 4, 5, 6]\n"
     ]
    }
   ],
   "source": [
    "def merge_arrays(lst1, lst2):\n",
    "    ind1 = 0  # Creating 2 new variable to track the 'current index'\n",
    "    ind2 = 0\n",
    "    # While both indeces are less than the length of their lists\n",
    "    while ind1 < len(lst1) and ind2 < len(lst2):\n",
    "        # If the current element of list1 is greater\n",
    "        # than the current element of list2\n",
    "        if(lst1[ind1] > lst2[ind2]):\n",
    "            # insert list2's current index to list1\n",
    "            lst1.insert(ind1, lst2[ind2])\n",
    "            print(len(lst1))\n",
    "            ind1 += 1  # increment indices\n",
    "            ind2 += 1\n",
    "        else:\n",
    "            ind1 += 1\n",
    "\n",
    "    if ind2 < len(lst2):  # Append whatever is left of list2 to list1\n",
    "        lst1.extend(lst2[ind2:])\n",
    "    return lst1\n",
    "\n",
    "\n",
    "print(merge_arrays([1,2,4],[3, 3, 3, 3, 5, 6]))\n",
    "\n",
    "\n"
   ]
  },
  {
   "cell_type": "code",
   "execution_count": 74,
   "metadata": {},
   "outputs": [
    {
     "name": "stdout",
     "output_type": "stream",
     "text": [
      "[1, 3, 12, 60]\n",
      "60\n",
      "72\n",
      "90\n",
      "120\n",
      "[120, 90, 72, 60]\n"
     ]
    }
   ],
   "source": [
    "def find_product(lst):\n",
    "    # get product start from left\n",
    "    left = 1\n",
    "    product = []\n",
    "    for ele in lst:\n",
    "        product.append(left)\n",
    "        left = left * ele\n",
    "    # get product starting from right\n",
    "    print(product)\n",
    "    right = 1\n",
    "    for i in range(len(lst)-1, -1, -1):\n",
    "        product[i] = product[i] * right\n",
    "        right = right * lst[i]\n",
    "        print(product[i]) \n",
    "    return product\n",
    "\n",
    "\n",
    "print(find_product([3, 4, 5, 6]))\n",
    "    "
   ]
  },
  {
   "cell_type": "code",
   "execution_count": 66,
   "metadata": {},
   "outputs": [
    {
     "data": {
      "text/plain": [
       "[0, 0, 0]"
      ]
     },
     "execution_count": 66,
     "metadata": {},
     "output_type": "execute_result"
    }
   ],
   "source": [
    "find_product([0,2,3])"
   ]
  },
  {
   "cell_type": "code",
   "execution_count": 77,
   "metadata": {},
   "outputs": [
    {
     "name": "stdout",
     "output_type": "stream",
     "text": [
      "(1, 2)\n",
      "(2, 4)\n"
     ]
    }
   ],
   "source": [
    "\n",
    "for r in zip([1,2],[2,4]):\n",
    "    print(r)"
   ]
  },
  {
   "cell_type": "code",
   "execution_count": 78,
   "metadata": {},
   "outputs": [],
   "source": [
    "def find_product(lst):\n",
    "    # Write your code here\n",
    "    left_prod = []\n",
    "    right_prod = []\n",
    "    prod = 1\n",
    "    for n in lst:\n",
    "        left_prod.append(prod)\n",
    "        prod *= n\n",
    "    \n",
    "    print(left_prod)\n",
    "    prod = 1\n",
    "    for n in lst[::-1]:\n",
    "        right_prod.append(prod)\n",
    "        prod *= n\n",
    "    print(right_prod)\n",
    "    return [a * b for a,b in zip(left_prod,right_prod[::-1])]\n"
   ]
  },
  {
   "cell_type": "code",
   "execution_count": 80,
   "metadata": {},
   "outputs": [
    {
     "name": "stdout",
     "output_type": "stream",
     "text": [
      "[1, 1, 2]\n",
      "[1, 3, 6]\n"
     ]
    },
    {
     "data": {
      "text/plain": [
       "[6, 3, 2]"
      ]
     },
     "execution_count": 80,
     "metadata": {},
     "output_type": "execute_result"
    }
   ],
   "source": [
    "find_product([1,2,3])"
   ]
  },
  {
   "cell_type": "code",
   "execution_count": null,
   "metadata": {},
   "outputs": [],
   "source": [
    "def find_minimum(arr):\n",
    "    # Write your code here\n",
    "    minimum=float('inf')\n",
    "    for n in arr:\n",
    "        if n < minimum:\n",
    "            minimum = n\n",
    "    \n",
    "    return minimum\n"
   ]
  },
  {
   "cell_type": "code",
   "execution_count": null,
   "metadata": {},
   "outputs": [],
   "source": [
    "def find_second_maximum(lst):\n",
    "    # Write your code here\n",
    "    if len(lst) <= 0:\n",
    "        return\n",
    "    lst.sort()\n",
    "    return lst[-2]\n",
    "\n"
   ]
  },
  {
   "cell_type": "code",
   "execution_count": 82,
   "metadata": {},
   "outputs": [],
   "source": [
    "def find_second_maximum(lst):\n",
    "    maxval = float('-inf')\n",
    "    second = float('-inf')\n",
    "    \n",
    "    for n in lst:\n",
    "        if n > maxval:\n",
    "            second = maxval\n",
    "            maxval = n\n",
    "        elif n > second and n != maxval:\n",
    "            second = n\n",
    "    \n",
    "    if second == float('inf'):\n",
    "        return\n",
    "    else:\n",
    "        return second\n",
    "            "
   ]
  },
  {
   "cell_type": "code",
   "execution_count": 83,
   "metadata": {},
   "outputs": [
    {
     "data": {
      "text/plain": [
       "9"
      ]
     },
     "execution_count": 83,
     "metadata": {},
     "output_type": "execute_result"
    }
   ],
   "source": [
    "find_second_maximum([1,2,9,10])"
   ]
  },
  {
   "cell_type": "code",
   "execution_count": 84,
   "metadata": {},
   "outputs": [
    {
     "data": {
      "text/plain": [
       "[50, 40, 30, 20, 10]"
      ]
     },
     "execution_count": 84,
     "metadata": {},
     "output_type": "execute_result"
    }
   ],
   "source": [
    "[10,20,30,40,50][::-1]"
   ]
  },
  {
   "cell_type": "code",
   "execution_count": 85,
   "metadata": {},
   "outputs": [
    {
     "data": {
      "text/plain": [
       "[50, 30, 10]"
      ]
     },
     "execution_count": 85,
     "metadata": {},
     "output_type": "execute_result"
    }
   ],
   "source": [
    "[10,20,30,40,50][::-2]"
   ]
  },
  {
   "cell_type": "code",
   "execution_count": 86,
   "metadata": {},
   "outputs": [
    {
     "data": {
      "text/plain": [
       "[50, 40, 30, 20, 10]"
      ]
     },
     "execution_count": 86,
     "metadata": {},
     "output_type": "execute_result"
    }
   ],
   "source": [
    "[10,20,30,40,50][::-1]"
   ]
  },
  {
   "cell_type": "code",
   "execution_count": 87,
   "metadata": {},
   "outputs": [],
   "source": [
    "def right_rotate(lst, n):\n",
    "    # Write your code here\n",
    "    newlst = []\n",
    "    size = len(lst)\n",
    "    for i in range(size):\n",
    "        index = (i + n) % size\n",
    "        newlst.insert(index,lst[i])\n",
    "    \n",
    "    return newlst"
   ]
  },
  {
   "cell_type": "code",
   "execution_count": 89,
   "metadata": {},
   "outputs": [],
   "source": [
    "def right_rotate(lst, n):\n",
    "    # Write your code here\n",
    "    n = n % len(lst)\n",
    "    return lst[-n:] + lst[:-n]"
   ]
  },
  {
   "cell_type": "code",
   "execution_count": 90,
   "metadata": {},
   "outputs": [
    {
     "data": {
      "text/plain": [
       "[30, 40, 50, 10, 20]"
      ]
     },
     "execution_count": 90,
     "metadata": {},
     "output_type": "execute_result"
    }
   ],
   "source": [
    "right_rotate([10,20,30,40,50],3)"
   ]
  },
  {
   "cell_type": "code",
   "execution_count": 91,
   "metadata": {},
   "outputs": [],
   "source": [
    "def rearrange(lst):\n",
    "    l1 = [n for n in lst if n < 0]\n",
    "    l2 = [n for n in lst if n >= 0]\n",
    "    return l1 + l2"
   ]
  },
  {
   "cell_type": "code",
   "execution_count": 103,
   "metadata": {},
   "outputs": [],
   "source": [
    "def max_min(lst):\n",
    "    half_len = int(len(lst)/2)\n",
    "    l1 = [a for a in reversed(lst)][:half_len]\n",
    "    l2 = [b for b in lst][:half_len]\n",
    "    res = []\n",
    "    for row in list(zip(l1,l2)):\n",
    "        res.extend(row)\n",
    "    if len(lst) % 2 != 0:\n",
    "        res.append(lst[half_len])\n",
    "    return res\n"
   ]
  },
  {
   "cell_type": "code",
   "execution_count": 102,
   "metadata": {},
   "outputs": [
    {
     "name": "stdout",
     "output_type": "stream",
     "text": [
      "5\n",
      "[5, 1, 2, 3, 4]\n",
      "4\n",
      "[5, 1, 4, 2, 3]\n",
      "3\n",
      "[5, 1, 4, 2, 3]\n",
      "3\n",
      "[5, 1, 4, 2, 3]\n",
      "3\n",
      "[5, 1, 4, 2, 3]\n"
     ]
    },
    {
     "data": {
      "text/plain": [
       "[5, 1, 4, 2, 3]"
      ]
     },
     "execution_count": 102,
     "metadata": {},
     "output_type": "execute_result"
    }
   ],
   "source": [
    "def max_min(lst):\n",
    "    idx = 0\n",
    "    for i in range(len(lst) - 1,-1,-1):\n",
    "        ele = lst.pop()\n",
    "        print(ele)\n",
    "        lst.insert(idx,ele)\n",
    "        idx += 2\n",
    "        print(lst)\n",
    "    return lst\n",
    "\n",
    "max_min([1,2,3,4,5])"
   ]
  },
  {
   "cell_type": "code",
   "execution_count": 116,
   "metadata": {},
   "outputs": [
    {
     "name": "stdout",
     "output_type": "stream",
     "text": [
      "[6, 1]\n",
      "[6, 1, 5, 2]\n",
      "[6, 1, 5, 2, 4, 3]\n"
     ]
    },
    {
     "data": {
      "text/plain": [
       "[6, 1, 5, 2, 4, 3]"
      ]
     },
     "execution_count": 116,
     "metadata": {},
     "output_type": "execute_result"
    }
   ],
   "source": [
    "def max_min(lst):\n",
    "    res=[]\n",
    "    for i in range(len(lst)//2):\n",
    "        res.append(lst[-1 - i])\n",
    "        res.append(lst[i])\n",
    "        print(res)\n",
    "    if len(lst) % 2 != 0:\n",
    "        res.append(lst[len(lst)//2])\n",
    "    return res\n",
    "max_min([1,2,3,4,5,6])"
   ]
  },
  {
   "cell_type": "code",
   "execution_count": 119,
   "metadata": {},
   "outputs": [],
   "source": [
    "def find_max_sum_subarray(lst): \n",
    "    length = len(lst)\n",
    "    base_sums = [lst[0]]\n",
    "    max_sum = 0\n",
    "    for i in range(1,length):\n",
    "        base_sums.append(base_sums[i-1] + lst[i])\n",
    "  \n",
    "    deriv_sums = []\n",
    "    for i in range(length):\n",
    "        for j in range(i+2,len(base_sums)):\n",
    "            deriv_sums.append(base_sums[j] - base_sums[i])\n",
    "  \n",
    "    return max(base_sums[1:] + deriv_sums)\n",
    "\n",
    "#[-4, 2, -5, 1, 2, 3, 6, -5, 1\n"
   ]
  },
  {
   "cell_type": "code",
   "execution_count": 123,
   "metadata": {},
   "outputs": [
    {
     "data": {
      "text/plain": [
       "15"
      ]
     },
     "execution_count": 123,
     "metadata": {},
     "output_type": "execute_result"
    }
   ],
   "source": [
    "find_max_sum_subarray([-1,2,3,4,-4,10])"
   ]
  },
  {
   "cell_type": "code",
   "execution_count": 124,
   "metadata": {},
   "outputs": [],
   "source": [
    "def find_max_sum_subarray(lst): \n",
    "    if (len(lst) < 1): \n",
    "    return 0;\n",
    "\n",
    "    curr_max = lst[0];\n",
    "    global_max = lst[0];\n",
    "    length_array = len(lst);\n",
    "    for i in range(length_array):\n",
    "    if curr_max < 0: \n",
    "        curr_max = lst[i]\n",
    "    else:\n",
    "        curr_max += lst[i]\n",
    "    if global_max < curr_max:\n",
    "        global_max = curr_max\n",
    "\n",
    "    return global_max;\n",
    "\n"
   ]
  },
  {
   "cell_type": "code",
   "execution_count": 133,
   "metadata": {},
   "outputs": [
    {
     "name": "stdout",
     "output_type": "stream",
     "text": [
      "[]\n",
      "[1]\n",
      "[1]\n",
      "[1, 2]\n",
      "[1, 2]\n",
      "[1, 2, 3]\n"
     ]
    },
    {
     "data": {
      "text/plain": [
       "[1, 2, 3]"
      ]
     },
     "execution_count": 133,
     "metadata": {},
     "output_type": "execute_result"
    }
   ],
   "source": [
    "def f(i, values = []):\n",
    "    print(values)\n",
    "    values.append(i)\n",
    "    print (values),\n",
    "    return values\n",
    "\n",
    "f(1)\n",
    "f(2)\n",
    "f(3)"
   ]
  },
  {
   "cell_type": "code",
   "execution_count": 137,
   "metadata": {},
   "outputs": [
    {
     "name": "stdout",
     "output_type": "stream",
     "text": [
      "clicked button 0\n",
      "button 0 <function callback at 0x112771af0>\n",
      "clicked button 1\n",
      "button 1 <function callback at 0x1127714c0>\n",
      "clicked button 2\n",
      "button 2 <function callback at 0x1127710d0>\n",
      "clicked button 3\n",
      "button 3 <function callback at 0x112771430>\n",
      "clicked button 4\n",
      "button 4 <function callback at 0x112771820>\n",
      "clicked button 5\n",
      "button 5 <function callback at 0x111e06a60>\n",
      "clicked button 6\n",
      "button 6 <function callback at 0x11222c9d0>\n",
      "clicked button 7\n",
      "button 7 <function callback at 0x1131f0d30>\n",
      "clicked button 8\n",
      "button 8 <function callback at 0x1127660d0>\n",
      "clicked button 9\n",
      "button 9 <function callback at 0x1131f0e50>\n"
     ]
    }
   ],
   "source": [
    "class Button:\n",
    "    def __init__(self,callback):\n",
    "        self.callback = callback\n",
    "    def call(self):\n",
    "        self.callback()\n",
    "        \n",
    "for i in range(10):\n",
    "    def callback():\n",
    "        print (\"clicked button\", i)\n",
    "        print(\"button %s\" % i, callback)\n",
    "    button = Button(callback)    \n",
    "    button.call()"
   ]
  },
  {
   "cell_type": "code",
   "execution_count": 141,
   "metadata": {},
   "outputs": [],
   "source": [
    "def create_multipliers():\n",
    "    return [lambda x,i=i : i * x for i in range(5)]"
   ]
  },
  {
   "cell_type": "code",
   "execution_count": 142,
   "metadata": {},
   "outputs": [
    {
     "name": "stdout",
     "output_type": "stream",
     "text": [
      "0\n",
      "2\n",
      "4\n",
      "6\n",
      "8\n"
     ]
    }
   ],
   "source": [
    "for f in create_multipliers():\n",
    "    print(f(2))"
   ]
  },
  {
   "cell_type": "code",
   "execution_count": 1,
   "metadata": {},
   "outputs": [],
   "source": [
    "def find_sum(lst, n):\n",
    "    \"\"\"\n",
    "    Function to find two number that add up to n\n",
    "    :param lst: A list of integers\n",
    "    :param n: The integer number n\n",
    "    \"\"\"\n",
    "\n",
    "    # Write your code here!\n",
    "    elements = dict()\n",
    "\n",
    "    for i in lst:\n",
    "        elements[i] = n - i\n",
    "    \n",
    " \n",
    "        for i in lst:\n",
    "            if n - i in elements:\n",
    "                return [i,n-i]\n",
    "    \n",
    "    return []"
   ]
  },
  {
   "cell_type": "code",
   "execution_count": 4,
   "metadata": {},
   "outputs": [],
   "source": [
    "def binary_search(lst,left,right,key):\n",
    "\n",
    "    if len(lst) <= 0:\n",
    "        return -1\n",
    "\n",
    "    while left < right:\n",
    "        mid = (left + right)//2\n",
    "        if lst[mid] == key:\n",
    "            return mid\n",
    "        if key < lst[mid]:\n",
    "            #Ignore right\n",
    "            right = mid - 1\n",
    "        else:\n",
    "            #Ignore left\n",
    "            left = mid + 1\n",
    "    return -1\n",
    "\n",
    "def pivoted_binary_search(lst, n, key):\n",
    "    \"\"\"\n",
    "    Function to search key in a list\n",
    "    :param lst: A list of integers\n",
    "    :param n: The size of the list\n",
    "    :param key: A key to be searched in the list\n",
    "    \"\"\"\n",
    "\n",
    "    # Write your code here!\n",
    "    pivot = 0\n",
    "    for i in range(1,n):\n",
    "        if lst[i-1] > lst[i]:\n",
    "            pivot = i\n",
    "    \n",
    "    print(pivot)\n",
    "    #Found the pivot!\n",
    "    if key > lst[pivot]:\n",
    "        return binary_search(lst, pivot, n - 1, key)\n",
    "    else:\n",
    "        return binary_search(lst, 0, pivot - 1, key)\n",
    "\n",
    "\n",
    "\n",
    "\n",
    "\n"
   ]
  },
  {
   "cell_type": "code",
   "execution_count": 5,
   "metadata": {},
   "outputs": [],
   "source": [
    "def binary_search(lst,left,right,key):\n",
    "\n",
    "    if len(lst) <= 0:\n",
    "        return -1\n",
    "\n",
    "    while left <= right:\n",
    "        mid = (left + right)//2\n",
    "        if lst[mid] == key:\n",
    "            return mid\n",
    "        if key < lst[mid]:\n",
    "            #Ignore right\n",
    "            right = mid - 1\n",
    "        else:\n",
    "            #Ignore left\n",
    "            left = mid + 1\n",
    "    return -1\n",
    "\n",
    "def find_pivot(lst, low, high):\n",
    "\n",
    "    if lst[low] <= lst[high]:\n",
    "        return -1\n",
    "\n",
    "    while low < high:\n",
    "        mid = (high + low) // 2 \n",
    "        if lst[mid] > lst[mid + 1]:\n",
    "            return mid + 1\n",
    "        \n",
    "        if lst[mid - 1] > lst[mid]:\n",
    "            return mid\n",
    "        \n",
    "        if lst[low] >= lst[mid]:\n",
    "            return find_pivot(lst, 0, mid - 1)\n",
    "\n",
    "        return find_pivot(lst,mid+1,len(lst)-1)\n",
    "    \n",
    "    return -1\n",
    "\n",
    "def pivoted_binary_search(lst, n, key):\n",
    "    \"\"\"\n",
    "    Function to search key in a list\n",
    "    :param lst: A list of integers\n",
    "    :param n: The size of the list\n",
    "    :param key: A key to be searched in the list\n",
    "    \"\"\"\n",
    "\n",
    "    # Write your code here!\n",
    "    pivot = find_pivot(lst,0,n-1)\n",
    "    if pivot == -1:\n",
    "        #List is sorted\n",
    "        return binary_search(lst, 0, n - 1, key)\n",
    "    \n",
    "    #Found the pivot!\n",
    "    if key == lst[pivot]:\n",
    "        return pivot\n",
    "    elif key > lst[pivot] and key <= lst[n-1]:\n",
    "        return binary_search(lst, pivot, n - 1, key)\n",
    "    else:\n",
    "        return binary_search(lst, 0, pivot - 1, key)\n"
   ]
  },
  {
   "cell_type": "code",
   "execution_count": 12,
   "metadata": {},
   "outputs": [],
   "source": [
    "stro = 'tom marvolo riddle '"
   ]
  },
  {
   "cell_type": "code",
   "execution_count": 13,
   "metadata": {},
   "outputs": [
    {
     "data": {
      "text/plain": [
       "[' ',\n",
       " ' ',\n",
       " ' ',\n",
       " 'a',\n",
       " 'd',\n",
       " 'd',\n",
       " 'e',\n",
       " 'i',\n",
       " 'l',\n",
       " 'l',\n",
       " 'm',\n",
       " 'm',\n",
       " 'o',\n",
       " 'o',\n",
       " 'o',\n",
       " 'r',\n",
       " 'r',\n",
       " 't',\n",
       " 'v']"
      ]
     },
     "execution_count": 13,
     "metadata": {},
     "output_type": "execute_result"
    }
   ],
   "source": [
    "sorted(stro)"
   ]
  },
  {
   "cell_type": "code",
   "execution_count": null,
   "metadata": {},
   "outputs": [],
   "source": [
    "def anagrams(lst):\n",
    "    \"\"\"\n",
    "    Function to find anagram pairs\n",
    "    :param lst: A lst of strings\n",
    "    :return: Group of anagrams\n",
    "    \"\"\"\n",
    "    anagram_dict = dict()\n",
    "    for word in lst:\n",
    "        sorted_word = ''.join(sorted(word))\n",
    "        if sorted_word in anagram_dict:\n",
    "            anagram_dict[sorted_word].append(word)\n",
    "        else:\n",
    "            anagram_dict[sorted_word] = [word]\n",
    "    \n",
    "    return list(anagram_dict.values())\n",
    "\n"
   ]
  },
  {
   "cell_type": "code",
   "execution_count": null,
   "metadata": {},
   "outputs": [],
   "source": [
    "def sort_binary_list(lst):\n",
    "    \"\"\"\n",
    "    A function to sort binary list\n",
    "    :param lst: A list containing binary numbers\n",
    "    :return: A sorted binary list\n",
    "    \"\"\"\n",
    "    count = dict()\n",
    "    for num in lst:\n",
    "        try:\n",
    "            count[num] += 1\n",
    "        except KeyError:\n",
    "            count[num] = 1\n",
    "    result = [0]*count[0]\n",
    "    result.extend([1]*count[1])\n",
    "    return result\n",
    "    "
   ]
  },
  {
   "cell_type": "code",
   "execution_count": null,
   "metadata": {},
   "outputs": [],
   "source": []
  },
  {
   "cell_type": "code",
   "execution_count": null,
   "metadata": {},
   "outputs": [],
   "source": []
  },
  {
   "cell_type": "code",
   "execution_count": null,
   "metadata": {},
   "outputs": [],
   "source": []
  },
  {
   "cell_type": "code",
   "execution_count": null,
   "metadata": {},
   "outputs": [],
   "source": []
  },
  {
   "cell_type": "code",
   "execution_count": null,
   "metadata": {},
   "outputs": [],
   "source": []
  }
 ],
 "metadata": {
  "kernelspec": {
   "display_name": "Python 3",
   "language": "python",
   "name": "python3"
  },
  "language_info": {
   "codemirror_mode": {
    "name": "ipython",
    "version": 3
   },
   "file_extension": ".py",
   "mimetype": "text/x-python",
   "name": "python",
   "nbconvert_exporter": "python",
   "pygments_lexer": "ipython3",
   "version": "3.8.2"
  }
 },
 "nbformat": 4,
 "nbformat_minor": 4
}
